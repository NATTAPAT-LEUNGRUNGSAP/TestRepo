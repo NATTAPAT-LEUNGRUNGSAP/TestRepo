{
 "cells": [
  {
   "cell_type": "markdown",
   "id": "1ff9d342-5af1-4c4a-88f8-3380db0629f1",
   "metadata": {},
   "source": [
    "# Data Science Tools and Ecosystem"
   ]
  },
  {
   "cell_type": "markdown",
   "id": "d8effdae-26aa-4242-bcf6-97b47b8405c4",
   "metadata": {},
   "source": [
    "## Introduction\n",
    "In this notebook, Data Science Tools and Ecosystem are summarized to provide an overview of key resources and technologies used in the field.\n"
   ]
  },
  {
   "cell_type": "markdown",
   "id": "d31558ac-3a89-4a33-9cd6-e0a88dc0085c",
   "metadata": {},
   "source": [
    "## Data Science Languages\n",
    "Some of the popular languages that Data Scientists use are:\n",
    "1. Python\n",
    "2. R\n",
    "3. SQL"
   ]
  },
  {
   "cell_type": "markdown",
   "id": "23164aae-4cea-4060-8d12-ff01dcb2eb40",
   "metadata": {},
   "source": [
    "## Data Science Libraries\n",
    "Some of the commonly used libraries used by Data Scientists include:\n",
    "1. NumPy\n",
    "2. Pandas\n",
    "3. Matplotlib"
   ]
  },
  {
   "cell_type": "markdown",
   "id": "7d4e70bb-3ab2-4e9b-ba2a-c983c6ff6a29",
   "metadata": {},
   "source": [
    "|  Data Science Tools  |\n",
    "|  ------------------  |\n",
    "|  Jupyter Notebooks   |\n",
    "|            RStudio   |\n",
    "|       Google Colab   |"
   ]
  },
  {
   "cell_type": "markdown",
   "id": "cb968601-9b58-4294-94e7-8a206fbd401b",
   "metadata": {},
   "source": [
    "### Below are a few examples of evaluating arithmetic expressions in Python\n",
    "\n",
    "1. Addition.\n",
    "2. Subtraction.\n",
    "3. Multiplication.\n"
   ]
  },
  {
   "cell_type": "code",
   "execution_count": 15,
   "id": "96438df9-baf6-4e2f-9fe0-7a77bb941e9d",
   "metadata": {},
   "outputs": [
    {
     "data": {
      "text/plain": [
       "17"
      ]
     },
     "execution_count": 15,
     "metadata": {},
     "output_type": "execute_result"
    }
   ],
   "source": [
    "# This a simple arithmetic expression to mutiply then add integers\n",
    "(3*4)+5"
   ]
  },
  {
   "cell_type": "code",
   "execution_count": 13,
   "id": "0a5842ac-1509-480c-8fa0-2e64fc2322f1",
   "metadata": {},
   "outputs": [
    {
     "name": "stdout",
     "output_type": "stream",
     "text": [
      "3 hours 20 minutes\n"
     ]
    }
   ],
   "source": [
    "#This will convert 200 minutes to hours by diving by 60\n",
    "minutes = 200\n",
    "hours = minutes//60\n",
    "remaining_minutes = minutes % 60\n",
    "print(f\"{hours} hours {remaining_minutes} minutes\")"
   ]
  },
  {
   "cell_type": "markdown",
   "id": "fc09ac23-6197-4b4d-838f-62ae608407b7",
   "metadata": {},
   "source": [
    "**Objectives:**\n",
    "- List popular languages used for Data Science\n",
    "- Identify key applications of Data Science in various industries\n",
    "- Understand basic data types and structures in Python\n",
    "- Use libraries like Pandas and NumPy for data manipulation\n",
    "- Explore simple data visualization using Matplotlib"
   ]
  },
  {
   "cell_type": "markdown",
   "id": "ee2f3f09-b866-4e9c-bf9e-667c6ab6fad9",
   "metadata": {},
   "source": [
    "## Author\n",
    "Nattapat"
   ]
  },
  {
   "cell_type": "code",
   "execution_count": null,
   "id": "4d41158d-084f-4613-9776-df89376ab77a",
   "metadata": {},
   "outputs": [],
   "source": []
  }
 ],
 "metadata": {
  "kernelspec": {
   "display_name": "Python 3 (ipykernel)",
   "language": "python",
   "name": "python3"
  },
  "language_info": {
   "codemirror_mode": {
    "name": "ipython",
    "version": 3
   },
   "file_extension": ".py",
   "mimetype": "text/x-python",
   "name": "python",
   "nbconvert_exporter": "python",
   "pygments_lexer": "ipython3",
   "version": "3.13.5"
  }
 },
 "nbformat": 4,
 "nbformat_minor": 5
}
